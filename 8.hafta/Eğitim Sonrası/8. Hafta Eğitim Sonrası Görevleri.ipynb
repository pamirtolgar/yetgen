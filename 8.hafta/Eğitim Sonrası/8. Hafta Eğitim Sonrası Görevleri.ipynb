{
 "cells": [
  {
   "attachments": {},
   "cell_type": "markdown",
   "metadata": {},
   "source": [
    "# Problem 1\n",
    "\n",
    "Şimdi beraber kullanıcılardan aldığımız verileri işleyerek, onlara hem çıktı verecek, hem de aldığımız ve hesapladığımız verileri ileride kullanabilmek adına kaydedeceğiz.\n",
    "\n",
    "\n",
    " **Bu bir veri giriş platformu olacak**\n",
    "\n",
    "\n",
    " * kullanıcıya kaç giriş yapacağını soracağız\n",
    "* kullanıcıdan isim-soyisim, yaş, boy, kilo bilgilerini alarak VKİ hesaplayacağız\n",
    "* ardından bunları sınıflara göre kaydedeceğiz bir dosyaya kaydedeceğiz\n",
    "\n",
    "\n",
    "Sınıflar ise şu şekilde: \n",
    "* 18, 5 kg/m.'nin altında olanlar: Zayıf\n",
    "* 18.5 – 24, 9 kg/m. arasında olanlar: Normal kilolu\n",
    "* 25 – 29, 9 kg/m. arasında olanlar: Fazla kilolu\n",
    "* 30 – 39, 9 kg/m. arasında olanlar: Obez\n",
    "* 40 kg/m.'nin üzerinde olanlar: İleri derecede obez (morbid obez), olarak görülür."
   ]
  },
  {
   "cell_type": "code",
   "execution_count": 1,
   "metadata": {},
   "outputs": [
    {
     "ename": "SyntaxError",
     "evalue": "incomplete input (3714125109.py, line 45)",
     "output_type": "error",
     "traceback": [
      "\u001b[1;36m  Cell \u001b[1;32mIn[1], line 45\u001b[1;36m\u001b[0m\n\u001b[1;33m    veri['isim'], veri['yas'],\u001b[0m\n\u001b[1;37m                              ^\u001b[0m\n\u001b[1;31mSyntaxError\u001b[0m\u001b[1;31m:\u001b[0m incomplete input\n"
     ]
    }
   ],
   "source": [
    "# 1.Problemin Çözümünü Buraya Yazınız\n",
    "def vki_hesapla():\n",
    "    # Kaç girdi yapılacağını kullanıcıdan istiyoruz\n",
    "    n = int(input(\"Kaç girdi yapacaksınız? \"))\n",
    "\n",
    "    # VKI hesaplaması ve sınıflandırması yapılacak sözlüğümüzü oluşturuyoruz.\n",
    "    vki_dict = {\n",
    "        'Zayıf': [],\n",
    "        'Normal kilolu': [],\n",
    "        'Fazla kilolu': [],\n",
    "        'Obez': [],\n",
    "        'Morbid Obez': []\n",
    "    }\n",
    "\n",
    "    for i in range(n):\n",
    "        # Kullanıcıdan isim, yaş, boy ve kilo bilgilerini alıyoruz.\n",
    "        isim = input(\"{}. kişinin adı: \".format(i+1))\n",
    "        yas = int(input(\"{}. kişinin yaşını giriniz: \".format(i+1)))\n",
    "        boy = float(input(\"{}. kişinin boyunu metre cinsinden giriniz: \".format(i+1)))\n",
    "        kilo = float(input(\"{}. kişinin kilosunu giriniz: \".format(i+1)))\n",
    "\n",
    "        # VKI hesaplama işlemini gerçekleştiriyoruz.\n",
    "        vki = kilo / (boy**2)\n",
    "        \n",
    "        # VKI'ya göre sınıfını belirliyoruz.\n",
    "        if vki < 18.5:\n",
    "            sinif = 'Zayıf'\n",
    "        elif vki < 25:\n",
    "            sinif = 'Normal kilolu'\n",
    "        elif vki < 30:\n",
    "            sinif = 'Fazla kilolu'\n",
    "        elif vki < 40:\n",
    "            sinif = 'Obez'\n",
    "        else:\n",
    "            sinif = 'Morbid Obez'\n",
    "\n",
    "        # VKI sınıfını kullanıcının verileriyle birlikte sözlüğe kaydediyoruz.\n",
    "        vki_dict[sinif].append({'isim': isim, 'yas': yas, 'boy': boy, 'kilo': kilo, 'vki': vki})\n",
    "\n",
    "    # Sınıflara göre dosyalara kaydetme işlemi\n",
    "    for sinif, veriler in vki_dict.items():\n",
    "        with open(sinif+'.txt', 'w') as f:\n",
    "            for veri in veriler:\n",
    "                f.write('İsim: {}\\nYaş: {}\\nBoy: {}\\nKilo: {}\\nVKI: {}\\n\\n'.format(\n",
    "                    veri['isim'], veri['yas'],\n"
   ]
  },
  {
   "attachments": {},
   "cell_type": "markdown",
   "metadata": {},
   "source": [
    "# Problem 2\n",
    "**YetBar - Smoothie Bank**\n",
    "---\n",
    "YetBar spor salonunun girişinde bulunan, insansız bir sağlıklı içecek otomatıdır. Kullanıcı çeşitli girdiler smoothie içeceğine koyacağı ürünleri belirleyebilir, fiyat hesaplaması yaptırabilir ya da sadece menüyü görüntüleyebilir.\n",
    "\n",
    "**Projenin Amacı:**\n",
    "\n",
    "*   Birbirini etkileyen ve bir kod içerisinde birden fazla defa başvurulacak fonksiyonların oluşturulup, \"fonksiyonel\" proglamlamak.\n",
    "*   Büyük programları yazarken, yazılımcı olarak yapabileceğimiz hatalardan kaçınmak için kontrol yöntemleri geliştirmek.\n",
    "*   Kullanıcı inputlarını ve yaptığımız hesapları, raporlamak/loglamak amacıyla kaydetmek.\n",
    "\n",
    "**Programdan Beklenen Çıktılar**\n",
    "* Program kullanıcıya temelde 2 farklı işlem yapma imkanı sağlar.\n",
    "> 1. Menüyü görüntüleme\n",
    "> 3. Satın alma\n",
    "* Satın alınan her içecek tarih, fiyat bilgisi ile kaydedilmeli ve her zaman ulaşılabilir olmalıdır.\n",
    "\n",
    "\n"
   ]
  },
  {
   "cell_type": "code",
   "execution_count": 6,
   "metadata": {},
   "outputs": [
    {
     "ename": "SyntaxError",
     "evalue": "unterminated string literal (detected at line 29) (3378700021.py, line 29)",
     "output_type": "error",
     "traceback": [
      "\u001b[1;36m  Cell \u001b[1;32mIn[6], line 29\u001b[1;36m\u001b[0m\n\u001b[1;33m    print(\"\\nSmoothie Seçenek\u001b[0m\n\u001b[1;37m          ^\u001b[0m\n\u001b[1;31mSyntaxError\u001b[0m\u001b[1;31m:\u001b[0m unterminated string literal (detected at line 29)\n"
     ]
    }
   ],
   "source": [
    "# 2.Problemin Çözümünü Buraya Yazınız\n",
    "\n",
    "import datetime\n",
    "\n",
    "def buy():\n",
    "    print(\"Smoothie Seçenekleri: \")\n",
    "    for item, price in menu_items.items():\n",
    "        print(item, \"-\", price, \"TL\")\n",
    "\n",
    "    choice = input(\"Bir smoothie seçin: \")\n",
    "    if choice in menu_items:\n",
    "        price = menu_items[choice]\n",
    "        print(\"Seçtiğiniz smoothie: \", choice)\n",
    "        print(\"Toplam fiyat: \", price, \"TL\")\n",
    "\n",
    "        now = datetime.datetime.now()\n",
    "        date_time = now.strftime(\"%m/%d/%Y %H:%M:%S\")\n",
    "\n",
    "        with open(\"purchases.txt\", \"a\") as file:\n",
    "            file.write(date_time + \" - \" + choice + \" - \" + str(price) + \" TL\\n\")\n",
    "        \n",
    "    else:\n",
    "        print(\"Geçersiz bir seçim yaptınız!\")\n",
    "\n",
    "while True:\n",
    "    choice = menu()\n",
    "\n",
    "    if choice == \"1\":\n",
    "        print(\"\\nSmoothie Seçenek\n",
    "        \n"
   ]
  }
 ],
 "metadata": {
  "kernelspec": {
   "display_name": "Python 3",
   "language": "python",
   "name": "python3"
  },
  "language_info": {
   "name": "python",
   "version": "3.11.1"
  },
  "orig_nbformat": 4,
  "vscode": {
   "interpreter": {
    "hash": "5026d2d6e7aaaaba093def813beadff083d8733e4a511af01735cbabd156995d"
   }
  }
 },
 "nbformat": 4,
 "nbformat_minor": 2
}
