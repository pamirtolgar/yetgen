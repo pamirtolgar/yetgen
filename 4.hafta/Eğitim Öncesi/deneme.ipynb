{
 "cells": [
  {
   "cell_type": "code",
   "execution_count": 1,
   "metadata": {},
   "outputs": [
    {
     "name": "stdout",
     "output_type": "stream",
     "text": [
      "şeyda\n"
     ]
    }
   ],
   "source": [
    "liderler=[\"şeyda\",\"serdar\",\"pirşah\",\"pamir\"]\n",
    "print(liderler[0])"
   ]
  },
  {
   "cell_type": "code",
   "execution_count": 23,
   "metadata": {},
   "outputs": [
    {
     "ename": "TypeError",
     "evalue": "list.remove() takes exactly one argument (0 given)",
     "output_type": "error",
     "traceback": [
      "\u001b[1;31m---------------------------------------------------------------------------\u001b[0m",
      "\u001b[1;31mTypeError\u001b[0m                                 Traceback (most recent call last)",
      "Cell \u001b[1;32mIn[23], line 1\u001b[0m\n\u001b[1;32m----> 1\u001b[0m liderler\u001b[39m.\u001b[39;49mremove()  \u001b[39m#.remove() lisete içinden istediğin elemanı siler\u001b[39;00m\n\u001b[0;32m      2\u001b[0m \u001b[39mprint\u001b[39m(liderler)\n\u001b[0;32m      3\u001b[0m liderler\u001b[39m.\u001b[39mappend(\u001b[39m\"\u001b[39m\u001b[39mpirşah\u001b[39m\u001b[39m\"\u001b[39m)\n",
      "\u001b[1;31mTypeError\u001b[0m: list.remove() takes exactly one argument (0 given)"
     ]
    }
   ],
   "source": [
    "liderler.remove()  #.remove() lisete içinden istediğin elemanı siler\n",
    "print(liderler)\n",
    "liderler.append(\"pirşah\")\n",
    "print(liderler)\n",
    "\n",
    "print(len(liderler))"
   ]
  },
  {
   "cell_type": "code",
   "execution_count": 26,
   "metadata": {},
   "outputs": [
    {
     "name": "stdout",
     "output_type": "stream",
     "text": [
      "0\n"
     ]
    }
   ],
   "source": [
    "pamir=list((\"ankara\",\"istanbul\"))\n",
    "print(pamir.index(\"ankara\"))\n",
    "\n",
    "\n",
    "\n"
   ]
  },
  {
   "cell_type": "code",
   "execution_count": 25,
   "metadata": {},
   "outputs": [
    {
     "name": "stdout",
     "output_type": "stream",
     "text": [
      "['isa', 'agah', 'ali']\n",
      "<class 'tuple'>\n"
     ]
    }
   ],
   "source": [
    "okul=[\"ali\",\"agah\",\"isa\"]\n",
    "okul.reverse()\n",
    "\n",
    "print(okul)\n",
    "\n",
    "##pop() index verilirse o elamnaı verilmezse sondaki elemanı siler\n",
    "###insert(0,\"ali\") belirtilen indexe eleman ekler\n",
    "### reverse() listeyi ters çevirir \n",
    "### sort() listeyi küçükten büyüge sıralar\n",
    "\n",
    "\n",
    "\n",
    "tuplelist=(\"ali\",)\n",
    "print(type(tuplelist))\n",
    "\n"
   ]
  },
  {
   "cell_type": "code",
   "execution_count": 4,
   "metadata": {},
   "outputs": [
    {
     "name": "stdout",
     "output_type": "stream",
     "text": [
      "{'tl': 'türk lirası'}\n"
     ]
    }
   ],
   "source": [
    "sozluk={1:{\"tl\":\"türk lirası\"}}\n",
    "print(sozluk[1])"
   ]
  },
  {
   "cell_type": "code",
   "execution_count": 36,
   "metadata": {},
   "outputs": [
    {
     "name": "stdout",
     "output_type": "stream",
     "text": [
      "['ali', 'malatya', '21']\n"
     ]
    }
   ],
   "source": [
    "x=\"ali,malatya,21\"\n",
    "print(x.split(\",\"))\n",
    "\n",
    "\n"
   ]
  }
 ],
 "metadata": {
  "kernelspec": {
   "display_name": "Python 3",
   "language": "python",
   "name": "python3"
  },
  "language_info": {
   "codemirror_mode": {
    "name": "ipython",
    "version": 3
   },
   "file_extension": ".py",
   "mimetype": "text/x-python",
   "name": "python",
   "nbconvert_exporter": "python",
   "pygments_lexer": "ipython3",
   "version": "3.11.1"
  },
  "orig_nbformat": 4
 },
 "nbformat": 4,
 "nbformat_minor": 2
}
