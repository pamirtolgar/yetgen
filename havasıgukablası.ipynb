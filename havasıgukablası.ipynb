{
 "cells": [
  {
   "cell_type": "code",
   "execution_count": 19,
   "metadata": {},
   "outputs": [
    {
     "name": "stdout",
     "output_type": "stream",
     "text": [
      "allah {}\n"
     ]
    }
   ],
   "source": [
    "dede=\"aslla\"\n",
    "print(f\"allah\", {})"
   ]
  },
  {
   "cell_type": "code",
   "execution_count": 1,
   "metadata": {},
   "outputs": [
    {
     "name": "stdout",
     "output_type": "stream",
     "text": [
      "Menü:\n",
      "Margarita - 20 TL\n",
      "Pepperoni - 22 TL\n",
      "Vejetaryen - 18 TL\n",
      "Formaggio - 19 TL\n",
      "Hatalı bir seçim yaptınız. Lütfen menüden bir pizza seçin.\n",
      "Geçersiz bir seçim yaptınız. Lütfen 'E' veya 'H' girin.\n",
      "Siparişleriniz:\n",
      "Toplam fiyat: 0 TL\n"
     ]
    }
   ],
   "source": [
    "class PizzaSiparis:\n",
    "    def __init__(self):\n",
    "        self.menu = {\n",
    "            \"Margarita\": 20,\n",
    "            \"Pepperoni\": 22,\n",
    "            \"Vejetaryen\": 18,\n",
    "            \"Formaggio\": 19,\n",
    "            \n",
    "        }\n",
    "        self.siparisler = []\n",
    "\n",
    "    def menuyu_goster(self):\n",
    "        print(\"Menü:\")\n",
    "        for pizza, fiyat in self.menu.items():\n",
    "            print(pizza, \"-\", fiyat, \"TL\")\n",
    "\n",
    "    def siparis_al(self):\n",
    "        self.menuyu_goster()\n",
    "        secim = input(\"Sipariş vermek istediğiniz pizzanın adını girin: \")\n",
    "        if secim in self.menu:\n",
    "            self.siparisler.append(secim)\n",
    "            print(secim, \"pizzası siparişe eklendi!\")\n",
    "        else:\n",
    "            print(\"Hatalı bir seçim yaptınız. Lütfen menüden bir pizza seçin.\")\n",
    "\n",
    "    def siparisleri_goster(self):\n",
    "        print(\"Siparişleriniz:\")\n",
    "        for siparis in self.siparisler:\n",
    "            print(siparis)\n",
    "\n",
    "    def toplam_fiyat(self):\n",
    "        toplam = 0\n",
    "        for siparis in self.siparisler:\n",
    "            if siparis in self.menu:\n",
    "                toplam += self.menu[siparis]\n",
    "        return toplam\n",
    "\n",
    "    def siparis_uygula(self):\n",
    "        self.siparis_al()\n",
    "        while True:\n",
    "            devam_et = input(\"Başka bir pizza siparişi vermek istiyor musunuz? (E/H): \")\n",
    "            if devam_et.upper() == \"E\":\n",
    "                self.siparis_al()\n",
    "            elif devam_et.upper() == \"H\":\n",
    "                break\n",
    "            else:\n",
    "                print(\"Geçersiz bir seçim yaptınız. Lütfen 'E' veya 'H' girin.\")\n",
    "        self.siparisleri_goster()\n",
    "        print(\"Toplam fiyat:\", self.toplam_fiyat(), \"TL\")\n",
    "\n",
    "\n",
    "uygulama = PizzaSiparis()\n",
    "uygulama.siparis_uygula()\n"
   ]
  }
 ],
 "metadata": {
  "kernelspec": {
   "display_name": "Python 3",
   "language": "python",
   "name": "python3"
  },
  "language_info": {
   "codemirror_mode": {
    "name": "ipython",
    "version": 3
   },
   "file_extension": ".py",
   "mimetype": "text/x-python",
   "name": "python",
   "nbconvert_exporter": "python",
   "pygments_lexer": "ipython3",
   "version": "3.11.1"
  },
  "orig_nbformat": 4
 },
 "nbformat": 4,
 "nbformat_minor": 2
}
